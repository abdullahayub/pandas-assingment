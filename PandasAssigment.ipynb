{
 "cells": [
  {
   "cell_type": "markdown",
   "id": "a1e6f05b-c6ec-4e29-bdd4-7aa200f47bdc",
   "metadata": {},
   "source": [
    "## Pandas Assignment"
   ]
  },
  {
   "cell_type": "code",
   "execution_count": 19,
   "id": "c77bc6e0-9913-4686-a2fd-996d076a76a0",
   "metadata": {},
   "outputs": [],
   "source": [
    "import numpy as  np\n",
    "import pandas as pd"
   ]
  },
  {
   "cell_type": "markdown",
   "id": "1e8fba3d-afbe-4d23-b2e6-62f61143474d",
   "metadata": {},
   "source": [
    "### Create a data series with marks of students : 75, 80, 79, 60"
   ]
  },
  {
   "cell_type": "code",
   "execution_count": 4,
   "id": "a5b5fd11-1c57-428d-96de-0c854a1ed730",
   "metadata": {},
   "outputs": [
    {
     "data": {
      "text/plain": [
       "abdullah    75\n",
       "ayub        80\n",
       "asad        79\n",
       "rehman      60\n",
       "Name: marks of student, dtype: int64"
      ]
     },
     "execution_count": 4,
     "metadata": {},
     "output_type": "execute_result"
    }
   ],
   "source": [
    "ser=pd.Series([75,80,79,60],index=['abdullah','ayub','asad','rehman'],name='marks of student')\n",
    "ser"
   ]
  },
  {
   "cell_type": "markdown",
   "id": "315d5096-be58-413a-9c96-a5f56d2a7bbb",
   "metadata": {},
   "source": [
    "### Create a data frame with name of students, id and marks"
   ]
  },
  {
   "cell_type": "code",
   "execution_count": 5,
   "id": "53cf35d9-53e3-4666-9404-841986cc1a68",
   "metadata": {},
   "outputs": [
    {
     "data": {
      "text/html": [
       "<div>\n",
       "<style scoped>\n",
       "    .dataframe tbody tr th:only-of-type {\n",
       "        vertical-align: middle;\n",
       "    }\n",
       "\n",
       "    .dataframe tbody tr th {\n",
       "        vertical-align: top;\n",
       "    }\n",
       "\n",
       "    .dataframe thead th {\n",
       "        text-align: right;\n",
       "    }\n",
       "</style>\n",
       "<table border=\"1\" class=\"dataframe\">\n",
       "  <thead>\n",
       "    <tr style=\"text-align: right;\">\n",
       "      <th></th>\n",
       "      <th>name</th>\n",
       "      <th>marks</th>\n",
       "      <th>id</th>\n",
       "    </tr>\n",
       "  </thead>\n",
       "  <tbody>\n",
       "    <tr>\n",
       "      <th>0</th>\n",
       "      <td>abdullah</td>\n",
       "      <td>75</td>\n",
       "      <td>1</td>\n",
       "    </tr>\n",
       "    <tr>\n",
       "      <th>1</th>\n",
       "      <td>ayub</td>\n",
       "      <td>80</td>\n",
       "      <td>2</td>\n",
       "    </tr>\n",
       "    <tr>\n",
       "      <th>2</th>\n",
       "      <td>asad</td>\n",
       "      <td>79</td>\n",
       "      <td>3</td>\n",
       "    </tr>\n",
       "    <tr>\n",
       "      <th>3</th>\n",
       "      <td>rehman</td>\n",
       "      <td>60</td>\n",
       "      <td>4</td>\n",
       "    </tr>\n",
       "  </tbody>\n",
       "</table>\n",
       "</div>"
      ],
      "text/plain": [
       "       name  marks  id\n",
       "0  abdullah     75   1\n",
       "1      ayub     80   2\n",
       "2      asad     79   3\n",
       "3    rehman     60   4"
      ]
     },
     "metadata": {},
     "output_type": "display_data"
    }
   ],
   "source": [
    "dic={'name':['abdullah','ayub','asad','rehman'],'marks':[75,80,79,60],'id':[1,2,3,4]}\n",
    "data=pd.DataFrame(dic)\n",
    "display(data)"
   ]
  },
  {
   "cell_type": "markdown",
   "id": "1f8b2a25-77fe-4147-b458-96f4a6f9e732",
   "metadata": {},
   "source": [
    "### Read the CSV file"
   ]
  },
  {
   "cell_type": "code",
   "execution_count": 10,
   "id": "9fe61afb-d733-4567-ad87-59766c6d8017",
   "metadata": {},
   "outputs": [
    {
     "data": {
      "text/html": [
       "<div>\n",
       "<style scoped>\n",
       "    .dataframe tbody tr th:only-of-type {\n",
       "        vertical-align: middle;\n",
       "    }\n",
       "\n",
       "    .dataframe tbody tr th {\n",
       "        vertical-align: top;\n",
       "    }\n",
       "\n",
       "    .dataframe thead th {\n",
       "        text-align: right;\n",
       "    }\n",
       "</style>\n",
       "<table border=\"1\" class=\"dataframe\">\n",
       "  <thead>\n",
       "    <tr style=\"text-align: right;\">\n",
       "      <th></th>\n",
       "      <th>Student</th>\n",
       "      <th>Department</th>\n",
       "      <th>Age</th>\n",
       "      <th>Message</th>\n",
       "    </tr>\n",
       "  </thead>\n",
       "  <tbody>\n",
       "    <tr>\n",
       "      <th>0</th>\n",
       "      <td>Abdullah</td>\n",
       "      <td>BSE</td>\n",
       "      <td>26</td>\n",
       "      <td>Hello</td>\n",
       "    </tr>\n",
       "    <tr>\n",
       "      <th>1</th>\n",
       "      <td>Asad</td>\n",
       "      <td>EE</td>\n",
       "      <td>29</td>\n",
       "      <td>Hi</td>\n",
       "    </tr>\n",
       "    <tr>\n",
       "      <th>2</th>\n",
       "      <td>Rehman</td>\n",
       "      <td>SE</td>\n",
       "      <td>30</td>\n",
       "      <td>Hru</td>\n",
       "    </tr>\n",
       "    <tr>\n",
       "      <th>3</th>\n",
       "      <td>Ayub</td>\n",
       "      <td>ACC</td>\n",
       "      <td>27</td>\n",
       "      <td>Ok</td>\n",
       "    </tr>\n",
       "  </tbody>\n",
       "</table>\n",
       "</div>"
      ],
      "text/plain": [
       "    Student Department  Age Message\n",
       "0  Abdullah        BSE   26   Hello\n",
       "1      Asad         EE   29      Hi\n",
       "2    Rehman         SE   30     Hru\n",
       "3      Ayub        ACC   27      Ok"
      ]
     },
     "execution_count": 10,
     "metadata": {},
     "output_type": "execute_result"
    }
   ],
   "source": [
    "data=pd.read_csv('test.csv')\n",
    "data"
   ]
  },
  {
   "cell_type": "code",
   "execution_count": 11,
   "id": "bb16c1ce-4f99-4cf6-9cfa-55e5d5fcda23",
   "metadata": {},
   "outputs": [
    {
     "data": {
      "text/plain": [
       "Index(['Student', 'Department', 'Age', 'Message'], dtype='object')"
      ]
     },
     "execution_count": 11,
     "metadata": {},
     "output_type": "execute_result"
    }
   ],
   "source": [
    "data.columns"
   ]
  },
  {
   "cell_type": "markdown",
   "id": "0530c8b3-ad0f-4a87-a280-9a841e23c783",
   "metadata": {},
   "source": [
    "### Sort the data based on Marks obtained. Fill all the 'na' cells with 0"
   ]
  },
  {
   "cell_type": "code",
   "execution_count": 12,
   "id": "7d13bbd6-376d-49e9-9320-c731d60d8e52",
   "metadata": {},
   "outputs": [
    {
     "data": {
      "text/html": [
       "<div>\n",
       "<style scoped>\n",
       "    .dataframe tbody tr th:only-of-type {\n",
       "        vertical-align: middle;\n",
       "    }\n",
       "\n",
       "    .dataframe tbody tr th {\n",
       "        vertical-align: top;\n",
       "    }\n",
       "\n",
       "    .dataframe thead th {\n",
       "        text-align: right;\n",
       "    }\n",
       "</style>\n",
       "<table border=\"1\" class=\"dataframe\">\n",
       "  <thead>\n",
       "    <tr style=\"text-align: right;\">\n",
       "      <th></th>\n",
       "      <th>name</th>\n",
       "      <th>marks</th>\n",
       "      <th>id</th>\n",
       "    </tr>\n",
       "  </thead>\n",
       "  <tbody>\n",
       "    <tr>\n",
       "      <th>3</th>\n",
       "      <td>rehman</td>\n",
       "      <td>60</td>\n",
       "      <td>4</td>\n",
       "    </tr>\n",
       "    <tr>\n",
       "      <th>0</th>\n",
       "      <td>abdullah</td>\n",
       "      <td>75</td>\n",
       "      <td>1</td>\n",
       "    </tr>\n",
       "    <tr>\n",
       "      <th>2</th>\n",
       "      <td>asad</td>\n",
       "      <td>79</td>\n",
       "      <td>3</td>\n",
       "    </tr>\n",
       "    <tr>\n",
       "      <th>1</th>\n",
       "      <td>ayub</td>\n",
       "      <td>80</td>\n",
       "      <td>2</td>\n",
       "    </tr>\n",
       "  </tbody>\n",
       "</table>\n",
       "</div>"
      ],
      "text/plain": [
       "       name  marks  id\n",
       "3    rehman     60   4\n",
       "0  abdullah     75   1\n",
       "2      asad     79   3\n",
       "1      ayub     80   2"
      ]
     },
     "metadata": {},
     "output_type": "display_data"
    },
    {
     "data": {
      "text/html": [
       "<div>\n",
       "<style scoped>\n",
       "    .dataframe tbody tr th:only-of-type {\n",
       "        vertical-align: middle;\n",
       "    }\n",
       "\n",
       "    .dataframe tbody tr th {\n",
       "        vertical-align: top;\n",
       "    }\n",
       "\n",
       "    .dataframe thead th {\n",
       "        text-align: right;\n",
       "    }\n",
       "</style>\n",
       "<table border=\"1\" class=\"dataframe\">\n",
       "  <thead>\n",
       "    <tr style=\"text-align: right;\">\n",
       "      <th></th>\n",
       "      <th>name</th>\n",
       "      <th>marks</th>\n",
       "      <th>id</th>\n",
       "      <th>age</th>\n",
       "    </tr>\n",
       "  </thead>\n",
       "  <tbody>\n",
       "    <tr>\n",
       "      <th>0</th>\n",
       "      <td>abdullah</td>\n",
       "      <td>75</td>\n",
       "      <td>1</td>\n",
       "      <td>0</td>\n",
       "    </tr>\n",
       "    <tr>\n",
       "      <th>1</th>\n",
       "      <td>ayub</td>\n",
       "      <td>80</td>\n",
       "      <td>2</td>\n",
       "      <td>0</td>\n",
       "    </tr>\n",
       "    <tr>\n",
       "      <th>2</th>\n",
       "      <td>asad</td>\n",
       "      <td>79</td>\n",
       "      <td>3</td>\n",
       "      <td>0</td>\n",
       "    </tr>\n",
       "    <tr>\n",
       "      <th>3</th>\n",
       "      <td>rehman</td>\n",
       "      <td>60</td>\n",
       "      <td>4</td>\n",
       "      <td>0</td>\n",
       "    </tr>\n",
       "  </tbody>\n",
       "</table>\n",
       "</div>"
      ],
      "text/plain": [
       "       name  marks  id  age\n",
       "0  abdullah     75   1    0\n",
       "1      ayub     80   2    0\n",
       "2      asad     79   3    0\n",
       "3    rehman     60   4    0"
      ]
     },
     "metadata": {},
     "output_type": "display_data"
    }
   ],
   "source": [
    "dic={'name':['abdullah','ayub','asad','rehman'],'marks':[75,80,79,60],'id':[1,2,3,4]}\n",
    "data=pd.DataFrame(dic)\n",
    "display(data.sort_values(by='marks'))\n",
    "data_n=['name','marks','id','age']\n",
    "#dic=['texas','utah','california','ohio']\n",
    "#print(columns=data,fill_values=0)\n",
    "data=data.reindex(columns=data_n,fill_value=0)\n",
    "display(data)"
   ]
  },
  {
   "cell_type": "markdown",
   "id": "1b2dab94-4a2f-44c0-8da8-1e434234b34c",
   "metadata": {},
   "source": [
    "### Display the top 5 rows"
   ]
  },
  {
   "cell_type": "code",
   "execution_count": 14,
   "id": "b89f1ccc-c656-45ee-912a-31b6495c54b8",
   "metadata": {},
   "outputs": [
    {
     "data": {
      "text/html": [
       "<div>\n",
       "<style scoped>\n",
       "    .dataframe tbody tr th:only-of-type {\n",
       "        vertical-align: middle;\n",
       "    }\n",
       "\n",
       "    .dataframe tbody tr th {\n",
       "        vertical-align: top;\n",
       "    }\n",
       "\n",
       "    .dataframe thead th {\n",
       "        text-align: right;\n",
       "    }\n",
       "</style>\n",
       "<table border=\"1\" class=\"dataframe\">\n",
       "  <thead>\n",
       "    <tr style=\"text-align: right;\">\n",
       "      <th></th>\n",
       "      <th>ohio</th>\n",
       "      <th>texas</th>\n",
       "      <th>california</th>\n",
       "      <th>oho</th>\n",
       "      <th>txas</th>\n",
       "      <th>calfornia</th>\n",
       "      <th>ohi</th>\n",
       "      <th>texs</th>\n",
       "      <th>califonia</th>\n",
       "      <th>hio</th>\n",
       "    </tr>\n",
       "  </thead>\n",
       "  <tbody>\n",
       "    <tr>\n",
       "      <th>0</th>\n",
       "      <td>0</td>\n",
       "      <td>1</td>\n",
       "      <td>2</td>\n",
       "      <td>3</td>\n",
       "      <td>4</td>\n",
       "      <td>5</td>\n",
       "      <td>6</td>\n",
       "      <td>7</td>\n",
       "      <td>8</td>\n",
       "      <td>9</td>\n",
       "    </tr>\n",
       "    <tr>\n",
       "      <th>1</th>\n",
       "      <td>10</td>\n",
       "      <td>11</td>\n",
       "      <td>12</td>\n",
       "      <td>13</td>\n",
       "      <td>14</td>\n",
       "      <td>15</td>\n",
       "      <td>16</td>\n",
       "      <td>17</td>\n",
       "      <td>18</td>\n",
       "      <td>19</td>\n",
       "    </tr>\n",
       "    <tr>\n",
       "      <th>2</th>\n",
       "      <td>20</td>\n",
       "      <td>21</td>\n",
       "      <td>22</td>\n",
       "      <td>23</td>\n",
       "      <td>24</td>\n",
       "      <td>25</td>\n",
       "      <td>26</td>\n",
       "      <td>27</td>\n",
       "      <td>28</td>\n",
       "      <td>29</td>\n",
       "    </tr>\n",
       "    <tr>\n",
       "      <th>3</th>\n",
       "      <td>30</td>\n",
       "      <td>31</td>\n",
       "      <td>32</td>\n",
       "      <td>33</td>\n",
       "      <td>34</td>\n",
       "      <td>35</td>\n",
       "      <td>36</td>\n",
       "      <td>37</td>\n",
       "      <td>38</td>\n",
       "      <td>39</td>\n",
       "    </tr>\n",
       "    <tr>\n",
       "      <th>4</th>\n",
       "      <td>40</td>\n",
       "      <td>41</td>\n",
       "      <td>42</td>\n",
       "      <td>43</td>\n",
       "      <td>44</td>\n",
       "      <td>45</td>\n",
       "      <td>46</td>\n",
       "      <td>47</td>\n",
       "      <td>48</td>\n",
       "      <td>49</td>\n",
       "    </tr>\n",
       "  </tbody>\n",
       "</table>\n",
       "</div>"
      ],
      "text/plain": [
       "   ohio  texas  california  oho  txas  calfornia  ohi  texs  califonia  hio\n",
       "0     0      1           2    3     4          5    6     7          8    9\n",
       "1    10     11          12   13    14         15   16    17         18   19\n",
       "2    20     21          22   23    24         25   26    27         28   29\n",
       "3    30     31          32   33    34         35   36    37         38   39\n",
       "4    40     41          42   43    44         45   46    47         48   49"
      ]
     },
     "execution_count": 14,
     "metadata": {},
     "output_type": "execute_result"
    }
   ],
   "source": [
    "states=pd.DataFrame(np.arange(200).reshape((20,10)),columns=['ohio','texas','california','oho','txas','calfornia','ohi','texs','califonia','hio'])\n",
    "states.head(5)"
   ]
  },
  {
   "cell_type": "markdown",
   "id": "040f98dd-524e-4d7e-a14b-683d8916ec7c",
   "metadata": {},
   "source": [
    "### Display the last 5 rows"
   ]
  },
  {
   "cell_type": "code",
   "execution_count": 15,
   "id": "33eb82a6-107b-4d74-8bc3-a62ea7e8668a",
   "metadata": {},
   "outputs": [
    {
     "data": {
      "text/html": [
       "<div>\n",
       "<style scoped>\n",
       "    .dataframe tbody tr th:only-of-type {\n",
       "        vertical-align: middle;\n",
       "    }\n",
       "\n",
       "    .dataframe tbody tr th {\n",
       "        vertical-align: top;\n",
       "    }\n",
       "\n",
       "    .dataframe thead th {\n",
       "        text-align: right;\n",
       "    }\n",
       "</style>\n",
       "<table border=\"1\" class=\"dataframe\">\n",
       "  <thead>\n",
       "    <tr style=\"text-align: right;\">\n",
       "      <th></th>\n",
       "      <th>ohio</th>\n",
       "      <th>texas</th>\n",
       "      <th>california</th>\n",
       "      <th>oho</th>\n",
       "      <th>txas</th>\n",
       "      <th>calfornia</th>\n",
       "      <th>ohi</th>\n",
       "      <th>texs</th>\n",
       "      <th>califonia</th>\n",
       "      <th>hio</th>\n",
       "    </tr>\n",
       "  </thead>\n",
       "  <tbody>\n",
       "    <tr>\n",
       "      <th>15</th>\n",
       "      <td>150</td>\n",
       "      <td>151</td>\n",
       "      <td>152</td>\n",
       "      <td>153</td>\n",
       "      <td>154</td>\n",
       "      <td>155</td>\n",
       "      <td>156</td>\n",
       "      <td>157</td>\n",
       "      <td>158</td>\n",
       "      <td>159</td>\n",
       "    </tr>\n",
       "    <tr>\n",
       "      <th>16</th>\n",
       "      <td>160</td>\n",
       "      <td>161</td>\n",
       "      <td>162</td>\n",
       "      <td>163</td>\n",
       "      <td>164</td>\n",
       "      <td>165</td>\n",
       "      <td>166</td>\n",
       "      <td>167</td>\n",
       "      <td>168</td>\n",
       "      <td>169</td>\n",
       "    </tr>\n",
       "    <tr>\n",
       "      <th>17</th>\n",
       "      <td>170</td>\n",
       "      <td>171</td>\n",
       "      <td>172</td>\n",
       "      <td>173</td>\n",
       "      <td>174</td>\n",
       "      <td>175</td>\n",
       "      <td>176</td>\n",
       "      <td>177</td>\n",
       "      <td>178</td>\n",
       "      <td>179</td>\n",
       "    </tr>\n",
       "    <tr>\n",
       "      <th>18</th>\n",
       "      <td>180</td>\n",
       "      <td>181</td>\n",
       "      <td>182</td>\n",
       "      <td>183</td>\n",
       "      <td>184</td>\n",
       "      <td>185</td>\n",
       "      <td>186</td>\n",
       "      <td>187</td>\n",
       "      <td>188</td>\n",
       "      <td>189</td>\n",
       "    </tr>\n",
       "    <tr>\n",
       "      <th>19</th>\n",
       "      <td>190</td>\n",
       "      <td>191</td>\n",
       "      <td>192</td>\n",
       "      <td>193</td>\n",
       "      <td>194</td>\n",
       "      <td>195</td>\n",
       "      <td>196</td>\n",
       "      <td>197</td>\n",
       "      <td>198</td>\n",
       "      <td>199</td>\n",
       "    </tr>\n",
       "  </tbody>\n",
       "</table>\n",
       "</div>"
      ],
      "text/plain": [
       "    ohio  texas  california  oho  txas  calfornia  ohi  texs  califonia  hio\n",
       "15   150    151         152  153   154        155  156   157        158  159\n",
       "16   160    161         162  163   164        165  166   167        168  169\n",
       "17   170    171         172  173   174        175  176   177        178  179\n",
       "18   180    181         182  183   184        185  186   187        188  189\n",
       "19   190    191         192  193   194        195  196   197        198  199"
      ]
     },
     "execution_count": 15,
     "metadata": {},
     "output_type": "execute_result"
    }
   ],
   "source": [
    "states.tail(5)"
   ]
  },
  {
   "cell_type": "markdown",
   "id": "44bc9539-4194-451b-a413-244e17a04aaf",
   "metadata": {},
   "source": [
    "### Display only those students who got failed in examination"
   ]
  },
  {
   "cell_type": "code",
   "execution_count": 21,
   "id": "92de71ba-0966-44cd-ba99-0e94df7b8060",
   "metadata": {},
   "outputs": [
    {
     "data": {
      "text/html": [
       "<div>\n",
       "<style scoped>\n",
       "    .dataframe tbody tr th:only-of-type {\n",
       "        vertical-align: middle;\n",
       "    }\n",
       "\n",
       "    .dataframe tbody tr th {\n",
       "        vertical-align: top;\n",
       "    }\n",
       "\n",
       "    .dataframe thead th {\n",
       "        text-align: right;\n",
       "    }\n",
       "</style>\n",
       "<table border=\"1\" class=\"dataframe\">\n",
       "  <thead>\n",
       "    <tr style=\"text-align: right;\">\n",
       "      <th></th>\n",
       "      <th>name</th>\n",
       "      <th>marks</th>\n",
       "      <th>id</th>\n",
       "    </tr>\n",
       "  </thead>\n",
       "  <tbody>\n",
       "    <tr>\n",
       "      <th>4</th>\n",
       "      <td>hassan</td>\n",
       "      <td>20</td>\n",
       "      <td>5</td>\n",
       "    </tr>\n",
       "    <tr>\n",
       "      <th>5</th>\n",
       "      <td>raza</td>\n",
       "      <td>22</td>\n",
       "      <td>6</td>\n",
       "    </tr>\n",
       "  </tbody>\n",
       "</table>\n",
       "</div>"
      ],
      "text/plain": [
       "     name  marks  id\n",
       "4  hassan     20   5\n",
       "5    raza     22   6"
      ]
     },
     "metadata": {},
     "output_type": "display_data"
    }
   ],
   "source": [
    "dic={'name':['abdullah','ayub','asad','rehman','hassan', 'raza'],'marks':[75,80,79,60,20,22],'id':[1,2,3,4,5,6]}\n",
    "data=pd.DataFrame(dic)\n",
    "\n",
    "display(data[data.marks<40])"
   ]
  },
  {
   "cell_type": "markdown",
   "id": "e9139afe-04b9-42f4-9093-675f36c29ab3",
   "metadata": {},
   "source": [
    "### Findout basic statistical info from the data"
   ]
  },
  {
   "cell_type": "code",
   "execution_count": 24,
   "id": "5afd3ce0-0d3f-4fce-b1ae-0ba284919dba",
   "metadata": {},
   "outputs": [
    {
     "data": {
      "text/html": [
       "<div>\n",
       "<style scoped>\n",
       "    .dataframe tbody tr th:only-of-type {\n",
       "        vertical-align: middle;\n",
       "    }\n",
       "\n",
       "    .dataframe tbody tr th {\n",
       "        vertical-align: top;\n",
       "    }\n",
       "\n",
       "    .dataframe thead th {\n",
       "        text-align: right;\n",
       "    }\n",
       "</style>\n",
       "<table border=\"1\" class=\"dataframe\">\n",
       "  <thead>\n",
       "    <tr style=\"text-align: right;\">\n",
       "      <th></th>\n",
       "      <th>marks</th>\n",
       "      <th>id</th>\n",
       "    </tr>\n",
       "  </thead>\n",
       "  <tbody>\n",
       "    <tr>\n",
       "      <th>count</th>\n",
       "      <td>6.000000</td>\n",
       "      <td>6.000000</td>\n",
       "    </tr>\n",
       "    <tr>\n",
       "      <th>mean</th>\n",
       "      <td>56.000000</td>\n",
       "      <td>3.500000</td>\n",
       "    </tr>\n",
       "    <tr>\n",
       "      <th>std</th>\n",
       "      <td>28.049955</td>\n",
       "      <td>1.870829</td>\n",
       "    </tr>\n",
       "    <tr>\n",
       "      <th>min</th>\n",
       "      <td>20.000000</td>\n",
       "      <td>1.000000</td>\n",
       "    </tr>\n",
       "    <tr>\n",
       "      <th>25%</th>\n",
       "      <td>31.500000</td>\n",
       "      <td>2.250000</td>\n",
       "    </tr>\n",
       "    <tr>\n",
       "      <th>50%</th>\n",
       "      <td>67.500000</td>\n",
       "      <td>3.500000</td>\n",
       "    </tr>\n",
       "    <tr>\n",
       "      <th>75%</th>\n",
       "      <td>78.000000</td>\n",
       "      <td>4.750000</td>\n",
       "    </tr>\n",
       "    <tr>\n",
       "      <th>max</th>\n",
       "      <td>80.000000</td>\n",
       "      <td>6.000000</td>\n",
       "    </tr>\n",
       "  </tbody>\n",
       "</table>\n",
       "</div>"
      ],
      "text/plain": [
       "           marks        id\n",
       "count   6.000000  6.000000\n",
       "mean   56.000000  3.500000\n",
       "std    28.049955  1.870829\n",
       "min    20.000000  1.000000\n",
       "25%    31.500000  2.250000\n",
       "50%    67.500000  3.500000\n",
       "75%    78.000000  4.750000\n",
       "max    80.000000  6.000000"
      ]
     },
     "execution_count": 24,
     "metadata": {},
     "output_type": "execute_result"
    }
   ],
   "source": [
    "data.describe()"
   ]
  },
  {
   "cell_type": "markdown",
   "id": "f909af3d-c11f-435d-bc0a-3a19b024bbe6",
   "metadata": {},
   "source": [
    "### How many students got A, B, C, F?"
   ]
  },
  {
   "cell_type": "code",
   "execution_count": 25,
   "id": "b2b8b8d4-b14f-4ab8-af1a-e38c9413ad55",
   "metadata": {},
   "outputs": [
    {
     "name": "stdout",
     "output_type": "stream",
     "text": [
      "{'A': 2, 'B': 1, 'C': 1, 'F': 2}\n"
     ]
    }
   ],
   "source": [
    "dic={'name':['abdullah','ayub','asad','rehman','hassan', 'raza'],'marks':[80,80,79,60,20,22],'id':[1,2,3,4,5,6]}\n",
    "data=pd.DataFrame(dic)\n",
    "#a=(data[data.marks>40])\n",
    "count={}\n",
    "#display(len(a))\n",
    "for a in data.marks:\n",
    "    a=int(a)\n",
    "    if a >= 80 and  a <= 90 :\n",
    "        s='A'\n",
    "        count[s]=count.get(s,0)+1\n",
    "    elif a >= 70 and  a <= 79 :\n",
    "        s='B'\n",
    "        count[s]=count.get(s,0)+1\n",
    "    elif a >= 60 and  a <= 69 :\n",
    "        s='C'\n",
    "        count[s]=count.get(s,0)+1\n",
    "    else:\n",
    "        s='F'\n",
    "        count[s]=count.get(s,0)+1\n",
    "            \n",
    "print(count)"
   ]
  },
  {
   "cell_type": "markdown",
   "id": "5d079a29-dfdc-40be-9c25-16865a326c3f",
   "metadata": {},
   "source": [
    "### What are the mean scores for students who got A, B, C, F?"
   ]
  },
  {
   "cell_type": "code",
   "execution_count": 26,
   "id": "8b51ba5f-85d1-4675-8ee9-c4145fc0cd13",
   "metadata": {},
   "outputs": [
    {
     "name": "stdout",
     "output_type": "stream",
     "text": [
      "{'A': 2, 'B': 1, 'C': 1, 'F': 2}\n",
      "Mean 1.5\n"
     ]
    }
   ],
   "source": [
    "dic={'name':['abdullah','ayub','asad','rehman','hassan', 'raza'],'marks':[80,80,79,60,20,22],'id':[1,2,3,4,5,6]}\n",
    "data=pd.DataFrame(dic)\n",
    "a=(data[data.marks>40])\n",
    "count={}\n",
    "#display(len(a))\n",
    "for a in data.marks:\n",
    "    a=int(a)\n",
    "    if a >= 80 and  a <= 90 :\n",
    "        s='A'\n",
    "        count[s]=count.get(s,0)+1\n",
    "    elif a >= 70 and  a <= 79 :\n",
    "        s='B'\n",
    "        count[s]=count.get(s,0)+1\n",
    "    elif a >= 60 and  a <= 69 :\n",
    "        s='C'\n",
    "        count[s]=count.get(s,0)+1\n",
    "    else:\n",
    "        s='F'\n",
    "        count[s]=count.get(s,0)+1           \n",
    "print(count)\n",
    "sum=0\n",
    "c=0\n",
    "for i,h in count.items():\n",
    "    h=int(h)\n",
    "    sum=sum+h\n",
    "    c+=1\n",
    "print(\"Mean\",sum/c)"
   ]
  }
 ],
 "metadata": {
  "kernelspec": {
   "display_name": "Python 3 (ipykernel)",
   "language": "python",
   "name": "python3"
  },
  "language_info": {
   "codemirror_mode": {
    "name": "ipython",
    "version": 3
   },
   "file_extension": ".py",
   "mimetype": "text/x-python",
   "name": "python",
   "nbconvert_exporter": "python",
   "pygments_lexer": "ipython3",
   "version": "3.11.7"
  }
 },
 "nbformat": 4,
 "nbformat_minor": 5
}
